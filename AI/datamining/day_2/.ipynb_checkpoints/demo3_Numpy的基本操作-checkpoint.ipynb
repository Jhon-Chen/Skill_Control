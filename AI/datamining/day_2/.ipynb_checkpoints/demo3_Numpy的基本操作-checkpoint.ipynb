{
 "cells": [
  {
   "cell_type": "code",
   "execution_count": 4,
   "metadata": {},
   "outputs": [],
   "source": [
    "import numpy as np"
   ]
  },
  {
   "cell_type": "code",
   "execution_count": 6,
   "metadata": {},
   "outputs": [
    {
     "data": {
      "text/plain": [
       "array([[1., 1., 1., 1.],\n",
       "       [1., 1., 1., 1.],\n",
       "       [1., 1., 1., 1.]])"
      ]
     },
     "execution_count": 6,
     "metadata": {},
     "output_type": "execute_result"
    }
   ],
   "source": [
    "# 数组创建 0， 1\n",
    "np.ones([3,4])"
   ]
  },
  {
   "cell_type": "code",
   "execution_count": 7,
   "metadata": {},
   "outputs": [],
   "source": [
    "# 从已有的数据中创建\n",
    "a = np.array([[1,2,3], [4,5,6]])\n",
    "arr1 = np.array(a)\n",
    "arr2 = np.asarray(a)"
   ]
  },
  {
   "cell_type": "code",
   "execution_count": 8,
   "metadata": {},
   "outputs": [
    {
     "data": {
      "text/plain": [
       "(array([[1, 2, 3],\n",
       "        [4, 5, 6]]), array([[1, 2, 3],\n",
       "        [4, 5, 6]]))"
      ]
     },
     "execution_count": 8,
     "metadata": {},
     "output_type": "execute_result"
    }
   ],
   "source": [
    "arr1, arr2"
   ]
  },
  {
   "cell_type": "code",
   "execution_count": 9,
   "metadata": {},
   "outputs": [],
   "source": [
    "# 有什么不同\n",
    "# asarray：依旧是引用原来的数组，所以会随原有数组变化\n",
    "# array：相当于创建了一个新的数组\n",
    "a[1] = 10"
   ]
  },
  {
   "cell_type": "code",
   "execution_count": 10,
   "metadata": {},
   "outputs": [
    {
     "data": {
      "text/plain": [
       "(array([[1, 2, 3],\n",
       "        [4, 5, 6]]), array([[ 1,  2,  3],\n",
       "        [10, 10, 10]]))"
      ]
     },
     "execution_count": 10,
     "metadata": {},
     "output_type": "execute_result"
    }
   ],
   "source": [
    "arr1, arr2"
   ]
  },
  {
   "cell_type": "code",
   "execution_count": 11,
   "metadata": {},
   "outputs": [
    {
     "data": {
      "text/plain": [
       "array([  0.        ,  11.11111111,  22.22222222,  33.33333333,\n",
       "        44.44444444,  55.55555556,  66.66666667,  77.77777778,\n",
       "        88.88888889, 100.        ])"
      ]
     },
     "execution_count": 11,
     "metadata": {},
     "output_type": "execute_result"
    }
   ],
   "source": [
    "# 生成等间距的数组\n",
    "np.linspace(0,100,10)"
   ]
  },
  {
   "cell_type": "code",
   "execution_count": 12,
   "metadata": {},
   "outputs": [
    {
     "data": {
      "text/plain": [
       "array([10, 12, 14, 16, 18, 20, 22, 24, 26, 28, 30, 32, 34, 36, 38, 40, 42,\n",
       "       44, 46, 48])"
      ]
     },
     "execution_count": 12,
     "metadata": {},
     "output_type": "execute_result"
    }
   ],
   "source": [
    "np.arange(10,50,2)"
   ]
  },
  {
   "cell_type": "code",
   "execution_count": 13,
   "metadata": {},
   "outputs": [
    {
     "data": {
      "text/plain": [
       "70.3933676105279"
      ]
     },
     "execution_count": 13,
     "metadata": {},
     "output_type": "execute_result"
    }
   ],
   "source": [
    "# 创建一个随机数组\n",
    "# 均匀分布\n",
    "np.random.uniform(0,100)"
   ]
  },
  {
   "cell_type": "code",
   "execution_count": 14,
   "metadata": {},
   "outputs": [
    {
     "data": {
      "text/plain": [
       "array([[1.6819033 , 1.76062808, 1.65180018, 1.74181242, 1.72497959,\n",
       "        1.89748427, 1.70715689, 1.85250907, 1.93211796, 1.65096523],\n",
       "       [1.85065808, 1.51044245, 1.76241618, 1.81540918, 1.79012118,\n",
       "        1.70652333, 1.68512226, 1.56959935, 1.84221984, 1.68205482],\n",
       "       [1.74760551, 1.52380774, 1.61820867, 1.79509423, 1.82893461,\n",
       "        1.50934122, 1.5845677 , 1.74730875, 1.67210975, 1.83908918],\n",
       "       [1.68806172, 1.80075362, 1.67110375, 1.70038887, 1.78700784,\n",
       "        1.70369741, 1.91300556, 1.78807316, 1.85438004, 1.60676592],\n",
       "       [1.81854532, 1.79372309, 1.84223309, 1.72517083, 1.93182548,\n",
       "        1.59429467, 1.70778801, 1.83939582, 1.88933358, 1.7959202 ],\n",
       "       [1.68086458, 1.77005926, 1.76682072, 1.79437051, 2.04930701,\n",
       "        1.77429767, 1.82205702, 1.68704122, 1.63168711, 1.78950469],\n",
       "       [1.89266259, 1.60663177, 1.75906468, 1.74370198, 1.69107142,\n",
       "        1.58766536, 1.7100896 , 1.7931859 , 2.02731842, 1.55418329],\n",
       "       [1.62486829, 1.88187071, 1.84380572, 1.80882077, 1.66634382,\n",
       "        1.70497328, 1.63409124, 1.76895098, 1.61416526, 1.62425126],\n",
       "       [1.73952641, 1.98459662, 1.83705339, 1.81914491, 1.88596469,\n",
       "        1.58591825, 1.94839212, 1.775323  , 1.67926941, 1.86377914],\n",
       "       [1.77293965, 1.8214465 , 1.74623992, 1.83019307, 1.89448703,\n",
       "        1.71222354, 1.68785968, 1.81277541, 1.84509264, 1.63361901]])"
      ]
     },
     "execution_count": 14,
     "metadata": {},
     "output_type": "execute_result"
    }
   ],
   "source": [
    "# 正态分布\n",
    "np.random.normal(1.75, 0.1, (10,10))"
   ]
  },
  {
   "cell_type": "code",
   "execution_count": null,
   "metadata": {},
   "outputs": [],
   "source": []
  }
 ],
 "metadata": {
  "kernelspec": {
   "display_name": "Python 3",
   "language": "python",
   "name": "python3"
  },
  "language_info": {
   "codemirror_mode": {
    "name": "ipython",
    "version": 3
   },
   "file_extension": ".py",
   "mimetype": "text/x-python",
   "name": "python",
   "nbconvert_exporter": "python",
   "pygments_lexer": "ipython3",
   "version": "3.7.3"
  }
 },
 "nbformat": 4,
 "nbformat_minor": 2
}
