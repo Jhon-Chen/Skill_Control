{
 "cells": [
  {
   "cell_type": "code",
   "execution_count": 4,
   "metadata": {},
   "outputs": [],
   "source": [
    "import numpy as np"
   ]
  },
  {
   "cell_type": "code",
   "execution_count": 6,
   "metadata": {},
   "outputs": [
    {
     "data": {
      "text/plain": [
       "array([[1., 1., 1., 1.],\n",
       "       [1., 1., 1., 1.],\n",
       "       [1., 1., 1., 1.]])"
      ]
     },
     "execution_count": 6,
     "metadata": {},
     "output_type": "execute_result"
    }
   ],
   "source": [
    "# 数组创建 0， 1\n",
    "np.ones([3,4])"
   ]
  },
  {
   "cell_type": "code",
   "execution_count": 7,
   "metadata": {},
   "outputs": [],
   "source": [
    "# 从已有的数据中创建\n",
    "a = np.array([[1,2,3], [4,5,6]])\n",
    "arr1 = np.array(a)\n",
    "arr2 = np.asarray(a)"
   ]
  },
  {
   "cell_type": "code",
   "execution_count": 8,
   "metadata": {},
   "outputs": [
    {
     "data": {
      "text/plain": [
       "(array([[1, 2, 3],\n",
       "        [4, 5, 6]]), array([[1, 2, 3],\n",
       "        [4, 5, 6]]))"
      ]
     },
     "execution_count": 8,
     "metadata": {},
     "output_type": "execute_result"
    }
   ],
   "source": [
    "arr1, arr2"
   ]
  },
  {
   "cell_type": "code",
   "execution_count": 9,
   "metadata": {},
   "outputs": [],
   "source": [
    "# 有什么不同\n",
    "# asarray：依旧是引用原来的数组，所以会随原有数组变化\n",
    "# array：相当于创建了一个新的数组\n",
    "a[1] = 10"
   ]
  },
  {
   "cell_type": "code",
   "execution_count": 10,
   "metadata": {},
   "outputs": [
    {
     "data": {
      "text/plain": [
       "(array([[1, 2, 3],\n",
       "        [4, 5, 6]]), array([[ 1,  2,  3],\n",
       "        [10, 10, 10]]))"
      ]
     },
     "execution_count": 10,
     "metadata": {},
     "output_type": "execute_result"
    }
   ],
   "source": [
    "arr1, arr2"
   ]
  },
  {
   "cell_type": "code",
   "execution_count": 11,
   "metadata": {},
   "outputs": [
    {
     "data": {
      "text/plain": [
       "array([  0.        ,  11.11111111,  22.22222222,  33.33333333,\n",
       "        44.44444444,  55.55555556,  66.66666667,  77.77777778,\n",
       "        88.88888889, 100.        ])"
      ]
     },
     "execution_count": 11,
     "metadata": {},
     "output_type": "execute_result"
    }
   ],
   "source": [
    "# 生成等间距的数组\n",
    "np.linspace(0,100,10)"
   ]
  },
  {
   "cell_type": "code",
   "execution_count": 12,
   "metadata": {},
   "outputs": [
    {
     "data": {
      "text/plain": [
       "array([10, 12, 14, 16, 18, 20, 22, 24, 26, 28, 30, 32, 34, 36, 38, 40, 42,\n",
       "       44, 46, 48])"
      ]
     },
     "execution_count": 12,
     "metadata": {},
     "output_type": "execute_result"
    }
   ],
   "source": [
    "np.arange(10,50,2)"
   ]
  },
  {
   "cell_type": "code",
   "execution_count": 13,
   "metadata": {},
   "outputs": [
    {
     "data": {
      "text/plain": [
       "70.3933676105279"
      ]
     },
     "execution_count": 13,
     "metadata": {},
     "output_type": "execute_result"
    }
   ],
   "source": [
    "# 创建一个随机数组\n",
    "# 均匀分布\n",
    "np.random.uniform(0,100)"
   ]
  },
  {
   "cell_type": "code",
   "execution_count": 15,
   "metadata": {},
   "outputs": [
    {
     "data": {
      "text/plain": [
       "array([[1.82202479, 1.68790292, 1.71903333, 1.5103398 , 1.75406319,\n",
       "        1.72379464, 1.85622789, 1.64656184, 1.65116946, 1.68290582],\n",
       "       [1.77567778, 1.69019667, 1.85463069, 1.90955377, 1.85696871,\n",
       "        1.70508657, 1.61309072, 1.67493874, 1.60869489, 1.84492891],\n",
       "       [1.65245145, 1.70092775, 1.6455139 , 1.79710855, 1.69172119,\n",
       "        1.7137671 , 1.71486356, 1.71859441, 1.74993174, 1.64345357],\n",
       "       [1.75835128, 1.92909717, 1.86730796, 1.82673322, 1.710746  ,\n",
       "        1.77373811, 1.62815822, 1.7053722 , 1.76722843, 1.67108537],\n",
       "       [1.76701127, 1.86328726, 1.80766184, 1.68578053, 1.81133937,\n",
       "        1.88497773, 1.81568136, 1.72493954, 1.54924495, 1.78283488],\n",
       "       [1.98105899, 1.76184196, 1.74473379, 1.83503623, 1.74526067,\n",
       "        1.69535641, 1.7555744 , 1.87388143, 1.63460912, 1.81515961],\n",
       "       [1.68195801, 1.69574645, 1.55754136, 1.78771721, 1.83988127,\n",
       "        1.77074759, 1.9617182 , 1.67140482, 1.63281193, 1.65823801],\n",
       "       [1.66545988, 1.71671637, 1.68608233, 1.76245207, 1.73324584,\n",
       "        1.8402617 , 1.71336325, 1.84775791, 1.70249999, 1.71479861],\n",
       "       [1.71815406, 1.7014726 , 1.62719244, 1.7596935 , 1.73541529,\n",
       "        1.79293826, 1.77740042, 1.62188155, 1.70630151, 1.6140471 ],\n",
       "       [1.69683347, 1.59262751, 1.6209759 , 1.7240163 , 1.84963154,\n",
       "        1.542899  , 1.85580056, 1.89385248, 1.80905577, 1.64451795]])"
      ]
     },
     "execution_count": 15,
     "metadata": {},
     "output_type": "execute_result"
    }
   ],
   "source": [
    "# 正态分布\n",
    "np.random.normal(1.75, 0.1, [10,10])"
   ]
  },
  {
   "cell_type": "code",
   "execution_count": null,
   "metadata": {},
   "outputs": [],
   "source": []
  }
 ],
 "metadata": {
  "kernelspec": {
   "display_name": "Python 3",
   "language": "python",
   "name": "python3"
  },
  "language_info": {
   "codemirror_mode": {
    "name": "ipython",
    "version": 3
   },
   "file_extension": ".py",
   "mimetype": "text/x-python",
   "name": "python",
   "nbconvert_exporter": "python",
   "pygments_lexer": "ipython3",
   "version": "3.7.3"
  }
 },
 "nbformat": 4,
 "nbformat_minor": 2
}
